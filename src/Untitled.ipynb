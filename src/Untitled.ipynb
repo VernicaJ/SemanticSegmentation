{
 "cells": [
  {
   "cell_type": "code",
   "execution_count": null,
   "metadata": {},
   "outputs": [],
   "source": [
    "import os\n",
    "import json\n",
    "from train_unet import convert_labels\n",
    "import matplotlib.pyplot as plt\n"
   ]
  },
  {
   "cell_type": "code",
   "execution_count": null,
   "metadata": {},
   "outputs": [],
   "source": [
    "data_path = os.path.join(os.getcwd(), '..', 'data', 'raw')\n",
    "img_path = os.path.join(data_path, 'images')\n",
    "label_path = os.path.join(data_path, 'labels')\n",
    "\n",
    "label_1 = os.listdir(label_path)[0]\n",
    "img_1 = os.listdir(img_path)[0]\n",
    "print(label_1)\n",
    "print(img_1)\n",
    "with open(os.path.join(label_path, label_1)) as f:\n",
    "    test_label = convert_labels(f)\n"
   ]
  },
  {
   "cell_type": "markdown",
   "metadata": {},
   "source": [
    "# Data Augmentation"
   ]
  },
  {
   "cell_type": "code",
   "execution_count": null,
   "metadata": {},
   "outputs": [],
   "source": [
    "import os\n",
    "import matplotlib.pyplot as plt\n",
    "import numpy as np\n",
    "from scipy import misc, ndimage\n",
    "import keras\n",
    "from keras import backend as K\n",
    "from keras.preprocessing.image import ImageDataGenerator\n",
    "from keras.utils import to_categorical\n",
    "\n",
    "import cv2\n",
    "# from preprocessing import ImageDataGenerator\n",
    "%matplotlib inline"
   ]
  },
  {
   "cell_type": "code",
   "execution_count": null,
   "metadata": {},
   "outputs": [],
   "source": [
    "data_path = os.path.join(os.getcwd(), '..', 'data', 'processed')\n",
    "image_path = os.path.join(data_path, 'images')\n",
    "image_names = os.listdir(image_path)\n",
    "\n",
    "mask_path = os.path.join(data_path, 'labels', 'regions')\n",
    "mask_names = os.listdir(mask_path)\n",
    "# mask_names == image_names"
   ]
  },
  {
   "cell_type": "code",
   "execution_count": null,
   "metadata": {
    "scrolled": true
   },
   "outputs": [],
   "source": [
    "mask_temp = plt.imread(os.path.join(mask_path, mask_names[1]))\n",
    "print(mask_temp.shape)\n",
    "\n",
    "plt.imshow(mask_temp)"
   ]
  },
  {
   "cell_type": "code",
   "execution_count": null,
   "metadata": {
    "scrolled": true
   },
   "outputs": [],
   "source": [
    "img_temp = plt.imread(os.path.join(image_path, image_names[1]))\n",
    "print(img_temp.shape)\n",
    "\n",
    "plt.imshow(img_temp)\n"
   ]
  },
  {
   "cell_type": "code",
   "execution_count": null,
   "metadata": {},
   "outputs": [],
   "source": [
    "print(cv2.resize(img_temp,(320,240)).shape)\n",
    "plt.imshow(cv2.resize(img_temp,(320,240)))"
   ]
  },
  {
   "cell_type": "code",
   "execution_count": null,
   "metadata": {
    "scrolled": false
   },
   "outputs": [],
   "source": [
    "def resizing(verbose = True):\n",
    "    '''\n",
    "    resizes the images and masks to 240,320\n",
    "    '''\n",
    "    images = []\n",
    "    masks = []\n",
    "    for i in range(len(image_names)):\n",
    "        img_temp = plt.imread(os.path.join(image_path, image_names[i]))\n",
    "        if img_temp.shape == (240,320,3):\n",
    "            images.append(plt.imread(os.path.join(image_path, image_names[i])))\n",
    "            masks.append(plt.imread(os.path.join(mask_path, mask_names[i])))\n",
    "        else:\n",
    "            if verbose:\n",
    "                print('Resizing image {} from {} -> (240,320)'.format(image_names[i],\n",
    "                                                                 img_temp.shape))\n",
    "            images.append(cv2.resize(img_temp, (320,240)))\n",
    "            masks.append(cv2.resize(plt.imread(os.path.join(mask_path, mask_names[i])), (320,240)))\n",
    "            \n",
    "    return images, masks\n",
    "\n",
    "transformed_images, transformed_masks = resizing(verbose = False)"
   ]
  },
  {
   "cell_type": "code",
   "execution_count": null,
   "metadata": {},
   "outputs": [],
   "source": [
    "from keras.utils import to_categorical\n",
    "\n",
    "transformed_images = np.array(transformed_images)\n",
    "transformed_masks = np.array(transformed_masks)\n",
    "\n",
    "transformed_masks_oneHot = to_categorical(transformed_masks, 8)"
   ]
  },
  {
   "cell_type": "code",
   "execution_count": null,
   "metadata": {},
   "outputs": [],
   "source": [
    "print(transformed_masks_oneHot.shape)\n",
    "print(transformed_images.shape)"
   ]
  },
  {
   "cell_type": "code",
   "execution_count": null,
   "metadata": {},
   "outputs": [],
   "source": [
    "datagen = ImageDataGenerator(rescale=1./255)"
   ]
  },
  {
   "cell_type": "code",
   "execution_count": null,
   "metadata": {},
   "outputs": [],
   "source": [
    "generator = datagen.flow_from_directory(\n",
    "        image_path,\n",
    "        target_size=(150, 150),\n",
    "        batch_size=32,\n",
    "        class_mode='binary')"
   ]
  },
  {
   "cell_type": "code",
   "execution_count": null,
   "metadata": {},
   "outputs": [],
   "source": [
    "gen = ImageDataGenerator(rotation_range=10,\n",
    "                        width_shift_range=0,\n",
    "                        height_shift_range=0,\n",
    "                        shear_range=0.15,\n",
    "                        zoom_range=0.1,\n",
    "                        channel_shift_range=10,\n",
    "                        horizontal_flip=True)"
   ]
  },
  {
   "cell_type": "code",
   "execution_count": null,
   "metadata": {},
   "outputs": [],
   "source": [
    "test_img= np.expand_dims(plt.imread(os.path.join(img_path,img_1)),0)\n",
    "\n",
    "plt.imshow(test_img[0])\n",
    "plt.show()\n",
    "print(test_img.shape)\n",
    "aug_iter = gen.flow(test_img)"
   ]
  },
  {
   "cell_type": "code",
   "execution_count": null,
   "metadata": {},
   "outputs": [],
   "source": [
    "plt.imshow(next(aug_iter)[0].astype(np.uint8))\n",
    "plt.show()"
   ]
  },
  {
   "cell_type": "code",
   "execution_count": null,
   "metadata": {},
   "outputs": [],
   "source": [
    "aug_images = [next(aug_iter)[0]]"
   ]
  },
  {
   "cell_type": "code",
   "execution_count": null,
   "metadata": {},
   "outputs": [],
   "source": [
    "from keras import backend as K\n",
    "\n",
    "ss = K.tf.Session(config = \n",
    "             K.tf.ConfigProto(gpu_options=\n",
    "                                       K.tf.GPUOptions(allow_growth=True)))\n",
    "K.set_session(ss)\n",
    "ss.run(K.tf)"
   ]
  },
  {
   "cell_type": "code",
   "execution_count": null,
   "metadata": {},
   "outputs": [],
   "source": [
    "print(K.set_learning_phase(1))"
   ]
  },
  {
   "cell_type": "code",
   "execution_count": null,
   "metadata": {},
   "outputs": [],
   "source": [
    "K.set_session"
   ]
  },
  {
   "cell_type": "code",
   "execution_count": null,
   "metadata": {},
   "outputs": [],
   "source": [
    "K.tf.ConfigProto"
   ]
  },
  {
   "cell_type": "code",
   "execution_count": null,
   "metadata": {},
   "outputs": [],
   "source": [
    "K.tf.GPUOptions"
   ]
  },
  {
   "cell_type": "code",
   "execution_count": null,
   "metadata": {},
   "outputs": [],
   "source": [
    "from keras import metrics\n",
    "\n",
    "metrics.mse"
   ]
  },
  {
   "cell_type": "markdown",
   "metadata": {},
   "source": [
    "# Create right paths and also processed data"
   ]
  },
  {
   "cell_type": "code",
   "execution_count": null,
   "metadata": {},
   "outputs": [],
   "source": [
    "import os\n",
    "import numpy as np\n",
    "import matplotlib.pyplot as plt\n",
    "from utils import convert_labels\n",
    "\n",
    "import pyarrow\n",
    "import pyarrow.parquet as pq\n",
    "\n",
    "import cv2\n",
    "%matplotlib notebook"
   ]
  },
  {
   "cell_type": "code",
   "execution_count": null,
   "metadata": {},
   "outputs": [],
   "source": [
    "data_path = os.path.join(os.getcwd(), '..', 'data', 'raw')\n",
    "img_path = os.path.join(data_path, 'images')\n",
    "label_path = os.path.join(data_path, 'labels')"
   ]
  },
  {
   "cell_type": "code",
   "execution_count": null,
   "metadata": {},
   "outputs": [],
   "source": [
    "label_names = os.listdir(label_path)\n",
    "label_names\n",
    "\n",
    "img_names = os.listdir(img_path)\n",
    "img_names.sort()"
   ]
  },
  {
   "cell_type": "code",
   "execution_count": null,
   "metadata": {},
   "outputs": [],
   "source": [
    "regions_names = [x for x in label_names if 'regions' in x]\n",
    "surfaces_names = [x for x in label_names if 'surfaces' in x]\n",
    "layers_names = [x for x in label_names if 'layers' in x]\n",
    "\n",
    "# sort them\n",
    "regions_names.sort()\n",
    "surfaces_names.sort()\n",
    "layers_names.sort()\n",
    "\n",
    "common_names = [x.split('.')[0] for x in regions_names]\n",
    "# checking is sorted right\n",
    "x1 = [x.split('.')[0] for x in regions_names]\n",
    "x2 = [x.split('.')[0] for x in surfaces_names]\n",
    "x3 = [x.split('.')[0] for x in layers_names]\n",
    "x4 = [x.split('.')[0] for x in img_names]\n",
    "\n",
    "print(x1 == x2)\n",
    "print(x1 == x3)\n",
    "print(x2 == x3)\n",
    "print(x1 == x4)"
   ]
  },
  {
   "cell_type": "code",
   "execution_count": null,
   "metadata": {},
   "outputs": [],
   "source": [
    "print(os.path.join(label_path, regions_names[0]))\n",
    "print(os.path.join(label_path, surfaces_names[0]))\n",
    "print(os.path.join(label_path, layers_names[0]))\n",
    "print(os.path.join(img_path, img_names[0]))"
   ]
  },
  {
   "cell_type": "code",
   "execution_count": null,
   "metadata": {},
   "outputs": [],
   "source": [
    "img_1 = plt.imread(os.path.join(img_path, img_names[0]))\n",
    "plt.imshow(img_1)"
   ]
  },
  {
   "cell_type": "code",
   "execution_count": null,
   "metadata": {},
   "outputs": [],
   "source": [
    "# Reading the regions txt file\n",
    "with open(os.path.join(label_path,regions_names[0])) as f:\n",
    "    reg_1 = convert_labels(f)\n",
    "# Reading the surfaces txt file\n",
    "with open(os.path.join(label_path,surfaces_names[0])) as f:\n",
    "    surf_1 = convert_labels(f)\n",
    "# Reading the layers txt file\n",
    "with open(os.path.join(label_path,layers_names[0])) as f:\n",
    "    lay_1 = convert_labels(f)\n"
   ]
  },
  {
   "cell_type": "code",
   "execution_count": null,
   "metadata": {
    "scrolled": true
   },
   "outputs": [],
   "source": [
    "img_1"
   ]
  },
  {
   "cell_type": "code",
   "execution_count": null,
   "metadata": {
    "scrolled": true
   },
   "outputs": [],
   "source": [
    "img_1[:,:,[2,1,0]]"
   ]
  },
  {
   "cell_type": "code",
   "execution_count": null,
   "metadata": {},
   "outputs": [],
   "source": [
    "img_1.shape[:-1]"
   ]
  },
  {
   "cell_type": "code",
   "execution_count": null,
   "metadata": {},
   "outputs": [],
   "source": [
    "# plotting the region labels\n",
    "plt.imshow(np.reshape(reg_1,img_1.shape[:-1]))\n",
    "# surf_1\n",
    "# lay_1"
   ]
  },
  {
   "cell_type": "code",
   "execution_count": null,
   "metadata": {},
   "outputs": [],
   "source": [
    "# plotting the surface labels\n",
    "plt.imshow(np.reshape(surf_1,img_1.shape[:-1]))"
   ]
  },
  {
   "cell_type": "code",
   "execution_count": null,
   "metadata": {
    "scrolled": true
   },
   "outputs": [],
   "source": [
    "print(max(surf_1))\n",
    "print(min(surf_1))\n",
    "print(len(surf_1))\n",
    "\n",
    "print(max(reg_1))\n",
    "print(min(reg_1))\n",
    "print(len(reg_1))\n"
   ]
  },
  {
   "cell_type": "code",
   "execution_count": null,
   "metadata": {
    "scrolled": true
   },
   "outputs": [],
   "source": [
    "common_names[0]"
   ]
  },
  {
   "cell_type": "code",
   "execution_count": null,
   "metadata": {},
   "outputs": [],
   "source": [
    "np.reshape(surf_1,img_1.shape[:-1])"
   ]
  },
  {
   "cell_type": "code",
   "execution_count": null,
   "metadata": {},
   "outputs": [],
   "source": [
    "cv2.imwrite(os.path.join(processed_label_path,common_names[0]) +'.tif',a)"
   ]
  },
  {
   "cell_type": "code",
   "execution_count": null,
   "metadata": {},
   "outputs": [],
   "source": [
    "for i in range(len(regions_names)):\n",
    "    cv2.imwrite(regions_names[i],)"
   ]
  },
  {
   "cell_type": "code",
   "execution_count": null,
   "metadata": {},
   "outputs": [],
   "source": []
  },
  {
   "cell_type": "code",
   "execution_count": null,
   "metadata": {},
   "outputs": [],
   "source": []
  },
  {
   "cell_type": "code",
   "execution_count": null,
   "metadata": {},
   "outputs": [],
   "source": [
    "def make_dir(directory):\n",
    "    '''\n",
    "    Creates a directory if there is no directory\n",
    "    '''\n",
    "    if not os.path.exists(directory):\n",
    "        os.makedirs(directory)\n",
    "    else:\n",
    "        print(\"Directory already exist: {}. No action taken\".format(directory))"
   ]
  },
  {
   "cell_type": "code",
   "execution_count": null,
   "metadata": {},
   "outputs": [],
   "source": [
    "import os\n",
    "\n",
    "processed_data_path = os.path.join(os.getcwd(), '..', 'data', 'processed')\n",
    "processed_label_path = os.path.join(processed_data_path, 'labels')\n",
    "\n",
    "if not os.path.exists(processed_label_path):\n",
    "    os.makedirs(processed_label_path)"
   ]
  },
  {
   "cell_type": "code",
   "execution_count": null,
   "metadata": {},
   "outputs": [],
   "source": []
  }
 ],
 "metadata": {
  "kernelspec": {
   "display_name": "Python 3",
   "language": "python",
   "name": "python3"
  },
  "language_info": {
   "codemirror_mode": {
    "name": "ipython",
    "version": 3
   },
   "file_extension": ".py",
   "mimetype": "text/x-python",
   "name": "python",
   "nbconvert_exporter": "python",
   "pygments_lexer": "ipython3",
   "version": "3.6.4"
  }
 },
 "nbformat": 4,
 "nbformat_minor": 2
}
